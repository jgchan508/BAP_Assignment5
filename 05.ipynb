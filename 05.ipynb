{
 "cells": [
  {
   "cell_type": "markdown",
   "metadata": {},
   "source": [
    "# Assignment 5\n",
    "The following assignment relies heavily on the content covered in the week 5 notes.  Many of the operations you are asked to do here resemble those we went over in class.  Please make sure to reference lesson 5.1 and especially lesson 5.2 notes to guide you through these exercises.  You will need to examine the page:  https://www.marketwatch.com/investing/stock/aapl to understand the structure (tags, classes).  \n",
    "#### Documentation\n",
    "[requests library](http://docs.python-requests.org/en/master/)  \n",
    "[beautifulsoup library](https://www.crummy.com/software/BeautifulSoup/bs4/doc/)  "
   ]
  },
  {
   "cell_type": "markdown",
   "metadata": {},
   "source": [
    "### Problem 1\n",
    "The following is a method we can use to open a file called data_file.txt. "
   ]
  },
  {
   "cell_type": "markdown",
   "metadata": {},
   "source": [
    "a. Turn the following code into a try and except block printing our an informative message when the file doesn't open (which it won't).\n",
    "```\n",
    "with open('data_file.txt') as data:\n",
    "    read_data = data.read()\n",
    "```"
   ]
  },
  {
   "cell_type": "code",
   "execution_count": 17,
   "metadata": {},
   "outputs": [
    {
     "name": "stdout",
     "output_type": "stream",
     "text": [
      "could not open data_file.txt\n"
     ]
    }
   ],
   "source": [
    "# code here\n",
    "try:\n",
    "    with open('data_file.txt') as data:\n",
    "        read_data = data.read()\n",
    "    \n",
    "except:\n",
    "    print(\"could not open data_file.txt\")\n",
    "    \n",
    "# returns: Could not open data_file.txt"
   ]
  },
  {
   "cell_type": "markdown",
   "metadata": {},
   "source": [
    "b.  Briefly desribe the importance of handling exceptions in programming. "
   ]
  },
  {
   "cell_type": "markdown",
   "metadata": {},
   "source": [
    "Answer:  instead of receiving an error message, you're given a message that tells you what is wrong.\n",
    "Python allows you to create your own exceptions as well. If the code in syntactically correct but there\n",
    "is an error, you receive an exception message."
   ]
  },
  {
   "cell_type": "markdown",
   "metadata": {},
   "source": [
    "The rest of this assignment will rely on the following libraries.  You will need to import them again as part of your functions. "
   ]
  },
  {
   "cell_type": "code",
   "execution_count": 18,
   "metadata": {},
   "outputs": [],
   "source": [
    "#Packages\n",
    "#Web scraping packages\n",
    "from bs4 import BeautifulSoup\n",
    "import requests\n",
    "#Pandas for data manipulation\n",
    "import pandas as pd"
   ]
  },
  {
   "cell_type": "markdown",
   "metadata": {},
   "source": [
    "### Problem 2\n",
    "This problem is all about web-scraping with requests and BeautifulSoup.  "
   ]
  },
  {
   "cell_type": "markdown",
   "metadata": {},
   "source": [
    "a.  Run a get request to url=\"https://www.marketwatch.com/investing/stock/\"+\"aapl\" and store the object returned as 'response'.  If the status code is not 200, print \"request not successful\"."
   ]
  },
  {
   "cell_type": "code",
   "execution_count": 19,
   "metadata": {},
   "outputs": [
    {
     "name": "stdout",
     "output_type": "stream",
     "text": [
      "<Response [200]>\n",
      "success\n"
     ]
    }
   ],
   "source": [
    "# Define the url\n",
    "url=\"https://www.marketwatch.com/investing/stock/\"+\"aapl\"\n",
    "# create the response from the get request\n",
    "response=requests.get(url)\n",
    "print(response)\n",
    "if response.status_code == 200:\n",
    "    print(\"success\")\n",
    "else:\n",
    "    print(\"response not successful\")\n",
    "\n",
    "\n"
   ]
  },
  {
   "cell_type": "markdown",
   "metadata": {},
   "source": [
    "b.  Referencing the above response, create BeautifulSoup object called \"results_page\" parsed with 'lxml'."
   ]
  },
  {
   "cell_type": "code",
   "execution_count": 20,
   "metadata": {
    "scrolled": false
   },
   "outputs": [],
   "source": [
    "# build the BeautifulSoup object and name it results_page\n",
    "results_page = BeautifulSoup(response.content,'lxml')\n",
    "#print(results_page)\n"
   ]
  },
  {
   "cell_type": "markdown",
   "metadata": {},
   "source": [
    "c.  On the webpage:  https://www.marketwatch.com/investing/stock/aapl, for the section called \"Key Data\". Inspect the page and verify that the tag/class combination that uniquely identifies each of the items in this table is 'li'/'kv_item'.  Find all elements identified by a tag of 'li' and a class_='kv_item'.  "
   ]
  },
  {
   "cell_type": "code",
   "execution_count": 21,
   "metadata": {
    "scrolled": true
   },
   "outputs": [
    {
     "name": "stdout",
     "output_type": "stream",
     "text": [
      "[<li class=\"kv__item\">\n",
      "<small class=\"kv__label\">Open</small>\n",
      "<span class=\"kv__value kv__primary\">$248.97</span>\n",
      "<span class=\"kv__value kv__secondary no-value\"></span>\n",
      "</li>, <li class=\"kv__item\">\n",
      "<small class=\"kv__label\">Day Range</small>\n",
      "<span class=\"kv__value kv__primary\">242.57 - 249.75</span>\n",
      "<span class=\"kv__value kv__secondary no-value\"></span>\n",
      "</li>, <li class=\"kv__item\">\n",
      "<small class=\"kv__label\">52 Week Range</small>\n",
      "<span class=\"kv__value kv__primary\">142.00 - 249.75</span>\n",
      "<span class=\"kv__value kv__secondary no-value\"></span>\n",
      "</li>, <li class=\"kv__item\">\n",
      "<small class=\"kv__label\">Market Cap</small>\n",
      "<span class=\"kv__value kv__primary\">$1.13T</span>\n",
      "<span class=\"kv__value kv__secondary no-value\"></span>\n",
      "</li>, <li class=\"kv__item\">\n",
      "<small class=\"kv__label\">Shares Outstanding</small>\n",
      "<span class=\"kv__value kv__primary\">4.6B</span>\n",
      "<span class=\"kv__value kv__secondary no-value\"></span>\n",
      "</li>, <li class=\"kv__item\">\n",
      "<small class=\"kv__label\">Public Float</small>\n",
      "<span class=\"kv__value kv__primary\">4.51B</span>\n",
      "<span class=\"kv__value kv__secondary no-value\"></span>\n",
      "</li>, <li class=\"kv__item\">\n",
      "<small class=\"kv__label\">Beta</small>\n",
      "<span class=\"kv__value kv__primary\">1.24</span>\n",
      "<span class=\"kv__value kv__secondary no-value\"></span>\n",
      "</li>, <li class=\"kv__item\">\n",
      "<small class=\"kv__label\">Rev. per Employee</small>\n",
      "<span class=\"kv__value kv__primary\">$1.98M</span>\n",
      "<span class=\"kv__value kv__secondary no-value\"></span>\n",
      "</li>, <li class=\"kv__item\">\n",
      "<small class=\"kv__label\">P/E Ratio</small>\n",
      "<span class=\"kv__value kv__primary\">20.73</span>\n",
      "<span class=\"kv__value kv__secondary no-value\"></span>\n",
      "</li>, <li class=\"kv__item\">\n",
      "<small class=\"kv__label\">EPS</small>\n",
      "<span class=\"kv__value kv__primary\">$11.74</span>\n",
      "<span class=\"kv__value kv__secondary no-value\"></span>\n",
      "</li>, <li class=\"kv__item\">\n",
      "<small class=\"kv__label\">Yield</small>\n",
      "<span class=\"kv__value kv__primary\">1.27%</span>\n",
      "<span class=\"kv__value kv__secondary no-value\"></span>\n",
      "</li>, <li class=\"kv__item\">\n",
      "<small class=\"kv__label\">Dividend</small>\n",
      "<span class=\"kv__value kv__primary\">$0.77</span>\n",
      "<span class=\"kv__value kv__secondary no-value\"></span>\n",
      "</li>, <li class=\"kv__item\">\n",
      "<small class=\"kv__label\">Ex-Dividend Date</small>\n",
      "<span class=\"kv__value kv__primary\">Aug 9, 2019</span>\n",
      "<span class=\"kv__value kv__secondary no-value\"></span>\n",
      "</li>, <li class=\"kv__item\">\n",
      "<small class=\"kv__label\">Short Interest</small>\n",
      "<span class=\"kv__value kv__primary\">48.02M</span>\n",
      "<span class=\"kv__value kv__secondary\">10/15/19</span>\n",
      "</li>, <li class=\"kv__item\">\n",
      "<small class=\"kv__label\">% of Float Shorted</small>\n",
      "<span class=\"kv__value kv__primary\">1.06%</span>\n",
      "<span class=\"kv__value kv__secondary no-value\"></span>\n",
      "</li>, <li class=\"kv__item\">\n",
      "<small class=\"kv__label\">Average Volume</small>\n",
      "<span class=\"kv__value kv__primary\">29.07M</span>\n",
      "<span class=\"kv__value kv__secondary no-value\"></span>\n",
      "</li>]\n"
     ]
    }
   ],
   "source": [
    "# find all elements with the tag \"li\" and class_=\"kv__item\"\n",
    "key_data = []\n",
    "\n",
    "kv_items = results_page.find_all('li',class_='kv__item')\n",
    "\n",
    "#key_data.append(class_='kv_items'.get_text())\n",
    "# print the data type for the kv_data object\n",
    "print(kv_items)\n",
    "\n",
    "\n"
   ]
  },
  {
   "cell_type": "markdown",
   "metadata": {},
   "source": [
    "d. The code to answer the above question should have returned a list.  Print the first item in this list.  You should get:\n",
    "```\n",
    "<li class=\"kv__item\">\n",
    "<small class=\"kv__label\">Open</small>\n",
    "<span class=\"kv__value kv__primary \">$188.75</span>\n",
    "<span class=\"kv__value kv__secondary no-value\"></span>\n",
    "</li>\n",
    "```"
   ]
  },
  {
   "cell_type": "code",
   "execution_count": 22,
   "metadata": {},
   "outputs": [
    {
     "data": {
      "text/plain": [
       "<li class=\"kv__item\">\n",
       "<small class=\"kv__label\">Open</small>\n",
       "<span class=\"kv__value kv__primary\">$248.97</span>\n",
       "<span class=\"kv__value kv__secondary no-value\"></span>\n",
       "</li>"
      ]
     },
     "execution_count": 22,
     "metadata": {},
     "output_type": "execute_result"
    }
   ],
   "source": [
    "# print the first item in the list you generated above\n",
    "kv_items[0]"
   ]
  },
  {
   "cell_type": "markdown",
   "metadata": {},
   "source": [
    "From the object shown above, extract the label \"Open\" and the value \"$188.75\"\n",
    "\n",
    "Note:  values will differ."
   ]
  },
  {
   "cell_type": "code",
   "execution_count": 23,
   "metadata": {},
   "outputs": [
    {
     "name": "stdout",
     "output_type": "stream",
     "text": [
      "Open\n",
      "$248.97\n"
     ]
    }
   ],
   "source": [
    "# extract the label \n",
    "label=kv_items[0].find('small',class_='kv__label').get_text()\n",
    "\n",
    "# extract the value\n",
    "value=kv_items[0].find('span',class_='kv__value').get_text()\n",
    "\n",
    "# print the results\n",
    "print(label)\n",
    "print(value)"
   ]
  },
  {
   "cell_type": "markdown",
   "metadata": {},
   "source": [
    "e.  We need to be able to extract the text for each of the items in the key_data object.  Write a for loop to extract the label and primary value creating a list of the form [(label, value), (label,value),...]"
   ]
  },
  {
   "cell_type": "code",
   "execution_count": 24,
   "metadata": {},
   "outputs": [
    {
     "name": "stdout",
     "output_type": "stream",
     "text": [
      "[('Open', '$248.97'), ('Day Range', '242.57 - 249.75'), ('52 Week Range', '142.00 - 249.75'), ('Market Cap', '$1.13T'), ('Shares Outstanding', '4.6B'), ('Public Float', '4.51B'), ('Beta', '1.24'), ('Rev. per Employee', '$1.98M'), ('P/E Ratio', '20.73'), ('EPS', '$11.74'), ('Yield', '1.27%'), ('Dividend', '$0.77'), ('Ex-Dividend Date', 'Aug 9, 2019'), ('Short Interest', '48.02M'), ('% of Float Shorted', '1.06%'), ('Average Volume', '29.07M')]\n"
     ]
    }
   ],
   "source": [
    "# initialize an empty list\n",
    "kd_list=[]\n",
    "# loop over the items obtained in the key_data object extracting the label and value from each\n",
    "for i in kv_items:\n",
    "    label=i.find('small',class_='kv__label').get_text()\n",
    "    value=i.find('span',class_='kv__value').get_text()\n",
    "    kd_list.append((label,value))\n",
    "\n",
    "# print the result\n",
    "print(kd_list)"
   ]
  },
  {
   "cell_type": "markdown",
   "metadata": {},
   "source": [
    "f. Optional Challenge:  \n",
    "\n",
    "Combine all of the above into a function that accepts a stock symbol as an argument and returns the list of (label, value) pairs.  "
   ]
  },
  {
   "cell_type": "code",
   "execution_count": 25,
   "metadata": {},
   "outputs": [
    {
     "ename": "IndentationError",
     "evalue": "expected an indented block (<ipython-input-25-1f353fb0f150>, line 7)",
     "output_type": "error",
     "traceback": [
      "\u001b[0;36m  File \u001b[0;32m\"<ipython-input-25-1f353fb0f150>\"\u001b[0;36m, line \u001b[0;32m7\u001b[0m\n\u001b[0;31m    except:\u001b[0m\n\u001b[0m         ^\u001b[0m\n\u001b[0;31mIndentationError\u001b[0m\u001b[0;31m:\u001b[0m expected an indented block\n"
     ]
    }
   ],
   "source": [
    "def get_key_data(symbol):\n",
    "\n",
    "    \n",
    "    try:\n",
    "\n",
    "        \n",
    "    except:\n",
    "        return None\n",
    "            "
   ]
  },
  {
   "cell_type": "markdown",
   "metadata": {},
   "source": [
    "Run the function"
   ]
  },
  {
   "cell_type": "code",
   "execution_count": 26,
   "metadata": {},
   "outputs": [
    {
     "ename": "NameError",
     "evalue": "name 'get_key_data' is not defined",
     "output_type": "error",
     "traceback": [
      "\u001b[0;31m---------------------------------------------------------------------------\u001b[0m",
      "\u001b[0;31mNameError\u001b[0m                                 Traceback (most recent call last)",
      "\u001b[0;32m<ipython-input-26-3e62c3547cb3>\u001b[0m in \u001b[0;36m<module>\u001b[0;34m\u001b[0m\n\u001b[0;32m----> 1\u001b[0;31m \u001b[0mresults\u001b[0m \u001b[0;34m=\u001b[0m \u001b[0mget_key_data\u001b[0m\u001b[0;34m(\u001b[0m\u001b[0;34m\"aapl\"\u001b[0m\u001b[0;34m)\u001b[0m\u001b[0;34m\u001b[0m\u001b[0;34m\u001b[0m\u001b[0m\n\u001b[0m",
      "\u001b[0;31mNameError\u001b[0m: name 'get_key_data' is not defined"
     ]
    }
   ],
   "source": [
    "results = get_key_data(\"aapl\")"
   ]
  },
  {
   "cell_type": "markdown",
   "metadata": {},
   "source": [
    "g. Optional:\n",
    "\n",
    "Use pandas to create a dataframe from the data you extracted. "
   ]
  },
  {
   "cell_type": "code",
   "execution_count": 27,
   "metadata": {},
   "outputs": [
    {
     "ename": "NameError",
     "evalue": "name 'results' is not defined",
     "output_type": "error",
     "traceback": [
      "\u001b[0;31m---------------------------------------------------------------------------\u001b[0m",
      "\u001b[0;31mNameError\u001b[0m                                 Traceback (most recent call last)",
      "\u001b[0;32m<ipython-input-27-4be5d47d1817>\u001b[0m in \u001b[0;36m<module>\u001b[0;34m\u001b[0m\n\u001b[1;32m      1\u001b[0m \u001b[0;32mimport\u001b[0m \u001b[0mpandas\u001b[0m \u001b[0;32mas\u001b[0m \u001b[0mpd\u001b[0m\u001b[0;34m\u001b[0m\u001b[0;34m\u001b[0m\u001b[0m\n\u001b[0;32m----> 2\u001b[0;31m \u001b[0mpd\u001b[0m\u001b[0;34m.\u001b[0m\u001b[0mDataFrame\u001b[0m\u001b[0;34m(\u001b[0m\u001b[0mresults\u001b[0m\u001b[0;34m)\u001b[0m\u001b[0;34m\u001b[0m\u001b[0;34m\u001b[0m\u001b[0m\n\u001b[0m",
      "\u001b[0;31mNameError\u001b[0m: name 'results' is not defined"
     ]
    }
   ],
   "source": [
    "import pandas as pd\n",
    "pd.DataFrame(results)"
   ]
  },
  {
   "cell_type": "code",
   "execution_count": null,
   "metadata": {},
   "outputs": [],
   "source": []
  }
 ],
 "metadata": {
  "kernelspec": {
   "display_name": "Python 3",
   "language": "python",
   "name": "python3"
  },
  "language_info": {
   "codemirror_mode": {
    "name": "ipython",
    "version": 3
   },
   "file_extension": ".py",
   "mimetype": "text/x-python",
   "name": "python",
   "nbconvert_exporter": "python",
   "pygments_lexer": "ipython3",
   "version": "3.7.3"
  }
 },
 "nbformat": 4,
 "nbformat_minor": 2
}
